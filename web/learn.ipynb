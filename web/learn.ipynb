{
 "cells": [
  {
   "cell_type": "code",
   "execution_count": null,
   "metadata": {
    "tags": []
   },
   "outputs": [],
   "source": [
    "import time,sys,gc,cProfile,pstats\n",
    "import re,regex\n",
    "import ctypes\n",
    "from concurrent.futures import ProcessPoolExecutor\n",
    "profile = cProfile.Profile()\n",
    "profile.enable()\n",
    "flag = 1\n",
    "if flag:\n",
    "    mod = ctypes.cdll.LoadLibrary('./test.so')\n",
    "    work = mod.work\n",
    "    tasks = [i+1 for i in range(30)]\n",
    "    for i in tasks:\n",
    "        print(work(i))\n",
    "else:\n",
    "    def work(n):\n",
    "        res = 0\n",
    "        for i in range(1000000):\n",
    "            if not i%n:\n",
    "                res+=1\n",
    "        return res\n",
    "    tasks = [i+1 for i in range(20)]\n",
    "    for i in tasks:\n",
    "        print(work(i))\n",
    "profile.disable()\n",
    "profile.dump_stats('restats.prof')  # 保存\n",
    "p = pstats.Stats('restats.prof')\n",
    "p.strip_dirs().sort_stats('tottime').print_stats(.1)\n",
    "gc.collect()\n"
   ]
  },
  {
   "cell_type": "code",
   "execution_count": 11,
   "metadata": {
    "tags": []
   },
   "outputs": [
    {
     "output_type": "stream",
     "name": "stdout",
     "text": "0.0004010200500488281\n"
    }
   ],
   "source": [
    "import array\n",
    "import numpy as np\n",
    "import time\n",
    "from functools import lru_cache\n",
    "\n",
    "a = [i for i in range(1000000)]\n",
    "\n",
    "\n",
    "@lru_cache()\n",
    "def add(n):\n",
    "    if n<=2:\n",
    "        return n\n",
    "    return add(n-1) + add(n-2)\n",
    "\n",
    "\n",
    "start = time.time()\n",
    "add(600)\n",
    "    \n",
    "print(time.time() - start)\n",
    "\n"
   ]
  }
 ],
 "metadata": {
  "language_info": {
   "codemirror_mode": {
    "name": "ipython",
    "version": 3
   },
   "file_extension": ".py",
   "mimetype": "text/x-python",
   "name": "python",
   "nbconvert_exporter": "python",
   "pygments_lexer": "ipython3",
   "version": "3.6.10-final"
  },
  "orig_nbformat": 2,
  "kernelspec": {
   "name": "python361064bitwebconda49deddd0f6284b54adaf6e0f3e2257f8",
   "display_name": "Python 3.6.10 64-bit ('web': conda)"
  }
 },
 "nbformat": 4,
 "nbformat_minor": 2
}