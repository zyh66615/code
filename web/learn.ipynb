{
 "cells": [
  {
   "cell_type": "code",
   "execution_count": null,
   "metadata": {},
   "outputs": [],
   "source": [
    "import requests\n",
    "import re\n",
    "from selenium import webdriver"
   ]
  },
  {
   "cell_type": "code",
   "execution_count": null,
   "metadata": {
    "tags": []
   },
   "outputs": [],
   "source": [
    "try:\n",
    "    res = requests.get('https://www.baidu.com')\n",
    "    res.encoding = res.apparent_encoding\n",
    "    print(res.text)\n",
    "except Exception as e:\n",
    "    print(e)\n",
    "finally:\n",
    "    pass"
   ]
  }
 ],
 "metadata": {
  "language_info": {
   "codemirror_mode": {
    "name": "ipython",
    "version": 3
   },
   "file_extension": ".py",
   "mimetype": "text/x-python",
   "name": "python",
   "nbconvert_exporter": "python",
   "pygments_lexer": "ipython3",
   "version": "3.6.10-final"
  },
  "orig_nbformat": 2,
  "kernelspec": {
   "name": "python361064bitwebconda49deddd0f6284b54adaf6e0f3e2257f8",
   "display_name": "Python 3.6.10 64-bit ('web': conda)"
  }
 },
 "nbformat": 4,
 "nbformat_minor": 2
}