{
 "cells": [
  {
   "cell_type": "code",
   "execution_count": null,
   "metadata": {
    "tags": []
   },
   "outputs": [],
   "source": [
    "def main():\n",
    "    import time,sys\n",
    "    from math import sqrt\n",
    "    t1 = time.time()\n",
    "    r = []\n",
    "    res = r.append\n",
    "    for i in range(50000000):\n",
    "        res(sqrt(i))\n",
    "    print(time.time()-t1)\n",
    "main()\n",
    "import gc\n",
    "gc.collect()"
   ]
  }
 ],
 "metadata": {
  "language_info": {
   "codemirror_mode": {
    "name": "ipython",
    "version": 3
   },
   "file_extension": ".py",
   "mimetype": "text/x-python",
   "name": "python",
   "nbconvert_exporter": "python",
   "pygments_lexer": "ipython3",
   "version": "3.6.10-final"
  },
  "orig_nbformat": 2,
  "kernelspec": {
   "name": "python361064bitwebconda49deddd0f6284b54adaf6e0f3e2257f8",
   "display_name": "Python 3.6.10 64-bit ('web': conda)"
  }
 },
 "nbformat": 4,
 "nbformat_minor": 2
}