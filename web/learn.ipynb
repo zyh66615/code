{
 "cells": [
  {
   "cell_type": "code",
   "execution_count": 1,
   "metadata": {
    "tags": []
   },
   "outputs": [
    {
     "output_type": "stream",
     "name": "stdout",
     "text": "10000000\n5000000\n3333334\n2500000\n2000000\n1666667\n1428572\n1250000\n1111112\n1000000\n909091\n833334\n769231\n714286\n666667\n625000\n588236\n555556\n526316\n500000\n476191\n454546\n434783\n416667\n400000\n384616\n370371\n357143\n344828\n333334\nSun Jul 26 21:54:50 2020    restats.prof\n\n         963 function calls in 0.970 seconds\n\n   Ordered by: internal time\n   List reduced from 47 to 5 due to restriction <0.1>\n\n   ncalls  tottime  percall  cumtime  percall filename:lineno(function)\n        1    0.963    0.963    0.970    0.970 <ipython-input-1-13415d907dd5>:8(<module>)\n       69    0.003    0.000    0.003    0.000 socket.py:342(send)\n       69    0.001    0.000    0.001    0.000 iostream.py:93(_event_pipe)\n       69    0.001    0.000    0.001    0.000 threading.py:1104(is_alive)\n       30    0.001    0.000    0.006    0.000 {built-in method builtins.print}\n\n\n"
    },
    {
     "output_type": "execute_result",
     "data": {
      "text/plain": "190"
     },
     "metadata": {},
     "execution_count": 1
    }
   ],
   "source": [
    "import time,sys,gc,cProfile,pstats\n",
    "import re,regex\n",
    "import ctypes\n",
    "from concurrent.futures import ProcessPoolExecutor\n",
    "profile = cProfile.Profile()\n",
    "profile.enable()\n",
    "flag = 1\n",
    "if flag:\n",
    "    mod = ctypes.cdll.LoadLibrary('./test.so')\n",
    "    work = mod.work\n",
    "    tasks = [i+1 for i in range(30)]\n",
    "    for i in tasks:\n",
    "        print(work(i))\n",
    "else:\n",
    "    def work(n):\n",
    "        res = 0\n",
    "        for i in range(1000000):\n",
    "            if not i%n:\n",
    "                res+=1\n",
    "        return res\n",
    "    tasks = [i+1 for i in range(20)]\n",
    "    for i in tasks:\n",
    "        print(work(i))\n",
    "profile.disable()\n",
    "profile.dump_stats('restats.prof')  # 保存\n",
    "p = pstats.Stats('restats.prof')\n",
    "p.strip_dirs().sort_stats('tottime').print_stats(.1)\n",
    "gc.collect()\n"
   ]
  }
 ],
 "metadata": {
  "language_info": {
   "codemirror_mode": {
    "name": "ipython",
    "version": 3
   },
   "file_extension": ".py",
   "mimetype": "text/x-python",
   "name": "python",
   "nbconvert_exporter": "python",
   "pygments_lexer": "ipython3",
   "version": "3.6.10-final"
  },
  "orig_nbformat": 2,
  "kernelspec": {
   "name": "python361064bitwebconda49deddd0f6284b54adaf6e0f3e2257f8",
   "display_name": "Python 3.6.10 64-bit ('web': conda)"
  }
 },
 "nbformat": 4,
 "nbformat_minor": 2
}