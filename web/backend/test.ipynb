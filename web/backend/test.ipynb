{
 "cells": [
  {
   "cell_type": "code",
   "execution_count": 15,
   "metadata": {},
   "outputs": [],
   "source": [
    "import re\n",
    "import os\n",
    "import requests\n",
    "from selenium import webdriver\n",
    "from selenium.webdriver.common.keys import Keys\n",
    "import numpy as np\n",
    "import time\n",
    "import base64\n",
    "import json\n",
    "import rsa\n",
    "import binascii"
   ]
  },
  {
   "cell_type": "code",
   "execution_count": 16,
   "metadata": {},
   "outputs": [],
   "source": [
    "def login(username, password):\n",
    "    username = base64.b64encode(username.encode('utf-8')).decode('utf-8')\n",
    "    postData = {\n",
    "        \"entry\": \"sso\",\n",
    "        \"gateway\": \"1\",\n",
    "        \"from\": \"null\",\n",
    "        \"savestate\": \"30\",\n",
    "        \"useticket\": \"0\",\n",
    "        \"pagerefer\": \"\",\n",
    "        \"vsnf\": \"1\",\n",
    "        \"su\": username,\n",
    "        \"service\": \"miniblog\",\n",
    "        \"sp\": password,\n",
    "        \"sr\": \"1440*900\",\n",
    "        \"encoding\": \"UTF-8\",\n",
    "        \"cdult\": \"3\",\n",
    "        \"domain\": \"sina.com.cn\",\n",
    "        \"prelt\": \"413\",\n",
    "        \"returntype\": \"TEXT\",\n",
    "    }\n",
    "    loginURL = r'https://login.sina.com.cn/sso/login.php?client=ssologin.js(v1.4.19)'\n",
    "    session = requests.Session()\n",
    "    res = session.post(loginURL, data=postData)\n",
    "    jsonStr = res.content.decode('gbk')\n",
    "    info = json.loads(jsonStr)\n",
    "    if info[\"retcode\"] == \"0\":\n",
    "        print(\"登录成功\")\n",
    "        # 把cookies添加到headers中，必须写这一步，否则后面调用API失败\n",
    "        cookies = session.cookies.get_dict()\n",
    "        cookies = [key + \"=\" + value for key, value in cookies.items()]\n",
    "        cookies = \"; \".join(cookies)\n",
    "        print(cookies)\n",
    "        session.headers[\"cookie\"] = cookies\n",
    "    else:\n",
    "        print(\"登录失败，原因： %s\" % info[\"reason\"])\n",
    "    return session\n",
    "\n",
    "\n",
    "def get_cookie(username, password):\n",
    "    # if os.path.exists('./cookie.npy'):\n",
    "    #     cookie = np.load('./cookie.npy', allow_pickle=True)\n",
    "    #     return cookie\n",
    "    username = base64.b64encode(username.encode('utf-8')).decode('utf-8')\n",
    "    postData = {\n",
    "        \"entry\": \"sso\",\n",
    "        \"gateway\": \"1\",\n",
    "        \"from\": \"null\",\n",
    "        \"savestate\": \"30\",\n",
    "        \"useticket\": \"0\",\n",
    "        \"pagerefer\": \"\",\n",
    "        \"vsnf\": \"1\",\n",
    "        \"su\": username,\n",
    "        \"service\": \"miniblog\",\n",
    "        \"sp\": password,\n",
    "        \"sr\": \"1440*900\",\n",
    "        \"encoding\": \"UTF-8\",\n",
    "        \"cdult\": \"3\",\n",
    "        \"domain\": \"sina.com.cn\",\n",
    "        \"prelt\": \"413\",\n",
    "        \"returntype\": \"TEXT\",\n",
    "    }\n",
    "    loginURL = r'https://login.sina.com.cn/sso/login.php?client=ssologin.js(v1.4.19)'\n",
    "    session = requests.Session()\n",
    "    res = session.post(loginURL, data=postData)\n",
    "    jsonStr = res.content.decode('gbk')\n",
    "    info = json.loads(jsonStr)\n",
    "    if info[\"retcode\"] == \"0\":\n",
    "        print(\"登录成功\")\n",
    "        cookies = session.cookies.get_dict()\n",
    "        print(cookies)\n",
    "        print('获取cookies成功')\n",
    "        np.save('./cookie.npy', cookies)\n",
    "    else:\n",
    "        print(\"登录失败，原因： %s\" % info[\"reason\"])\n",
    "    return cookies\n",
    "\n",
    "headers = {\n",
    "    'referer': 'https://weibo.com/p/1008082c2fa1b7274dc344e5a228ba0983f864/super_index',\n",
    "    'authority': 'weibo.com'\n",
    "}"
   ]
  },
  {
   "cell_type": "code",
   "execution_count": null,
   "metadata": {
    "tags": []
   },
   "outputs": [],
   "source": [
    "%time\n",
    "username = '13728902077'\n",
    "password = 'z123123123'\n",
    "cookie = get_cookie(username, password)\n",
    "headers['cookie'] = cookie\n",
    "urls = np.load('./sign.npy', allow_pickle=True).tolist()\n",
    "for name, url in urls.items()\n",
    "response = requests.get('',headers=headers)\n",
    "\n",
    "print(response.content)\n"
   ]
  },
  {
   "cell_type": "code",
   "execution_count": null,
   "metadata": {
    "tags": []
   },
   "outputs": [],
   "source": [
    "%time\n"
   ]
  }
 ],
 "metadata": {
  "language_info": {
   "codemirror_mode": {
    "name": "ipython",
    "version": 3
   },
   "file_extension": ".py",
   "mimetype": "text/x-python",
   "name": "python",
   "nbconvert_exporter": "python",
   "pygments_lexer": "ipython3",
   "version": "3.6.10-final"
  },
  "orig_nbformat": 2,
  "kernelspec": {
   "name": "python361064bitwebconda49deddd0f6284b54adaf6e0f3e2257f8",
   "display_name": "Python 3.6.10 64-bit ('web': conda)"
  }
 },
 "nbformat": 4,
 "nbformat_minor": 2
}